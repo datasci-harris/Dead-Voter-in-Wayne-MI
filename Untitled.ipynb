{
 "cells": [
  {
   "cell_type": "code",
   "execution_count": 76,
   "metadata": {},
   "outputs": [],
   "source": [
    "import pandas as pd\n",
    "import os\n",
    "from pathlib import Path\n",
    "\n",
    "dead_voted = pd.read_json(Path(os.getcwd())/'out/dead_voters_who_voted.json', orient=str)\n",
    "dead_registered = pd.read_json(Path(os.getcwd())/'out/registered_dead_voters.json', orient=str)\n",
    "registered = pd.read_csv(Path(os.getcwd())/'mi_wa_voterfile.csv')\n",
    "\n",
    "import pandas as pd\n",
    "import matplotlib.pyplot as plt\n",
    "import numpy as np"
   ]
  },
  {
   "cell_type": "code",
   "execution_count": 77,
   "metadata": {},
   "outputs": [
    {
     "data": {
      "text/plain": [
       "Text(0.5, 1.0, 'Distribution of all registered voters by race in Wayne County')"
      ]
     },
     "execution_count": 77,
     "metadata": {},
     "output_type": "execute_result"
    },
    {
     "data": {
      "image/png": "[encoded data removed]",
      "text/plain": [
       "<Figure size 864x648 with 1 Axes>"
      ]
     },
     "metadata": {
      "needs_background": "light"
     },
     "output_type": "display_data"
    }
   ],
   "source": [
    "#Distribution of all registered voters by race\n",
    "value = registered['race_code'].value_counts()\n",
    "#Plot the distribution\n",
    "fig, ax = plt.subplots(figsize=(12,9))\n",
    "n, bins, patches = ax.hist(registered['race_code'], bins=10, edgecolor='grey', rwidth =0.8)\n",
    "ax.set_ylabel('Number')\n",
    "ax.set_xlabel('Race')\n",
    "ax.set_title('Distribution of all registered voters by race in Wayne County')"
   ]
  },
  {
   "cell_type": "code",
   "execution_count": 78,
   "metadata": {},
   "outputs": [
    {
     "data": {
      "text/plain": [
       "Text(0.5, 1.0, '\"Dead Voters\" by race in Wayne County')"
      ]
     },
     "execution_count": 78,
     "metadata": {},
     "output_type": "execute_result"
    },
    {
     "data": {
      "image/png": "[encoded data removed]",
      "text/plain": [
       "<Figure size 288x288 with 1 Axes>"
      ]
     },
     "metadata": {
      "needs_background": "light"
     },
     "output_type": "display_data"
    }
   ],
   "source": [
    "#\"Dead voters\" by race in the registered voter dataset \n",
    "registered_dead_race = registered.loc[registered[\"birth_year\"]<=1920]\n",
    "#Plot the distribution\n",
    "fig, ax = plt.subplots(figsize=(4,4))\n",
    "n, bins, patches = ax.hist(registered_dead_race['race_code'], bins=5, edgecolor='grey')\n",
    "ax.set_ylabel('Number')\n",
    "ax.set_xlabel('Race')\n",
    "ax.set_title('\"Dead Voters\" by race in Wayne County')"
   ]
  },
  {
   "cell_type": "code",
   "execution_count": 79,
   "metadata": {},
   "outputs": [],
   "source": [
    "#Introduce gross income indicator into deadvoter analysis\n",
    "income = pd.read_csv(Path(os.getcwd())/'income by zipcode.csv').dropna() \n",
    "#Data source: Internal Revenue Service, https://www.irs.gov/statistics/soi-tax-stats-individual-income-tax-statistics-2018-zip-code-data-soi\n",
    "income.rename(columns = {'zipcode':'ZipCode'}, inplace = True)\n",
    "income[\"ZipCode\"]=income[\"ZipCode\"].astype(int)"
   ]
  },
  {
   "cell_type": "code",
   "execution_count": 80,
   "metadata": {},
   "outputs": [],
   "source": [
    "df = pd.merge(dead_registered,income,on=['ZipCode']) #Merge income and registered dead voters datasets\n",
    "df[\"Voted\"] = df[\"Voted\"]+0 #Binary on turnout"
   ]
  },
  {
   "cell_type": "code",
   "execution_count": 81,
   "metadata": {},
   "outputs": [],
   "source": [
    "#Turnout prediction using SVC model\n",
    "X = df[['BirthYear','income']]\n",
    "Y = df['Voted']\n",
    "\n",
    "from sklearn.model_selection import train_test_split\n",
    "X_train, X_test, Y_train, Y_test = train_test_split(X, Y, test_size=0.20, random_state=123)\n",
    "\n",
    "from sklearn.svm import SVC\n",
    "model = SVC(gamma='auto')\n",
    "model.fit(X_train, Y_train)\n",
    "predict = model.predict(X_test)"
   ]
  },
  {
   "cell_type": "code",
   "execution_count": 82,
   "metadata": {},
   "outputs": [
    {
     "name": "stdout",
     "output_type": "stream",
     "text": [
      "              precision    recall  f1-score   support\n",
      "\n",
      "           0       0.92      0.99      0.95      2579\n",
      "           1       0.17      0.03      0.05       229\n",
      "\n",
      "    accuracy                           0.91      2808\n",
      "   macro avg       0.55      0.51      0.50      2808\n",
      "weighted avg       0.86      0.91      0.88      2808\n",
      "\n"
     ]
    }
   ],
   "source": [
    "from sklearn.metrics import classification_report\n",
    "from sklearn.metrics import confusion_matrix\n",
    "from sklearn.metrics import accuracy_score\n",
    "\n",
    "print(classification_report(Y_test, predict))"
   ]
  },
  {
   "cell_type": "code",
   "execution_count": 83,
   "metadata": {},
   "outputs": [],
   "source": [
    "#Cross-validation\n",
    "from sklearn.model_selection import cross_val_score\n",
    "from sklearn.model_selection import StratifiedKFold\n",
    "from sklearn.tree import DecisionTreeClassifier\n",
    "from sklearn.discriminant_analysis import LinearDiscriminantAnalysis\n",
    "from sklearn.naive_bayes import GaussianNB\n",
    "\n",
    "models = [('Dec Tree', DecisionTreeClassifier()), \n",
    "          ('Lin Disc', LinearDiscriminantAnalysis()), \n",
    "          ('SVC', SVC(gamma='auto'))]\n",
    "results = []\n",
    "\n",
    "for name, model in models:\n",
    "    kf = StratifiedKFold(n_splits=10)\n",
    "    res = cross_val_score(model, X_train, Y_train, cv=kf, scoring='accuracy')\n",
    "    res_mean = round(res.mean(), 4)\n",
    "    res_std  = round(res.std(), 4)\n",
    "    results.append((name, res_mean, res_std))"
   ]
  },
  {
   "cell_type": "code",
   "execution_count": 84,
   "metadata": {},
   "outputs": [
    {
     "name": "stdout",
     "output_type": "stream",
     "text": [
      "Dec Tree   0.8967 0.0058\n",
      "Lin Disc   0.9142 0.0014\n",
      "SVC        0.908  0.0044\n"
     ]
    }
   ],
   "source": [
    "for line in results:\n",
    "    print(line[0].ljust(10), str(line[1]).ljust(6), str(line[2]))"
   ]
  }
 ],
 "metadata": {
  "kernelspec": {
   "display_name": "Python 3",
   "language": "python",
   "name": "python3"
  },
  "language_info": {
   "codemirror_mode": {
    "name": "ipython",
    "version": 3
   },
   "file_extension": ".py",
   "mimetype": "text/x-python",
   "name": "python",
   "nbconvert_exporter": "python",
   "pygments_lexer": "ipython3",
   "version": "3.7.9"
  }
 },
 "nbformat": 4,
 "nbformat_minor": 4
}
